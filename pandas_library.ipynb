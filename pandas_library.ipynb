{
  "nbformat": 4,
  "nbformat_minor": 0,
  "metadata": {
    "colab": {
      "name": "pandas_library",
      "private_outputs": true,
      "provenance": [],
      "collapsed_sections": [],
      "authorship_tag": "ABX9TyMMLmjtsiX1nQcIbMI23ez8",
      "include_colab_link": true
    },
    "kernelspec": {
      "name": "python3",
      "display_name": "Python 3"
    },
    "language_info": {
      "name": "python"
    }
  },
  "cells": [
    {
      "cell_type": "markdown",
      "metadata": {
        "id": "view-in-github",
        "colab_type": "text"
      },
      "source": [
        "<a href=\"https://colab.research.google.com/github/dilaraesmer/pandas_library/blob/main/pandas_library.ipynb\" target=\"_parent\"><img src=\"https://colab.research.google.com/assets/colab-badge.svg\" alt=\"Open In Colab\"/></a>"
      ]
    },
    {
      "cell_type": "code",
      "execution_count": null,
      "metadata": {
        "id": "gxIhcM-lrxgX"
      },
      "outputs": [],
      "source": [
        "import pandas as pd"
      ]
    },
    {
      "cell_type": "code",
      "source": [
        "df = pd.read_csv(\"avocado.csv\")"
      ],
      "metadata": {
        "id": "2U0PCAEVtSXp"
      },
      "execution_count": null,
      "outputs": []
    },
    {
      "cell_type": "code",
      "source": [
        "df.head(3)"
      ],
      "metadata": {
        "id": "DMRVxlsEtn1d"
      },
      "execution_count": null,
      "outputs": []
    },
    {
      "cell_type": "code",
      "source": [
        "df.tail(2)"
      ],
      "metadata": {
        "id": "xgYpj37zuA0W"
      },
      "execution_count": null,
      "outputs": []
    },
    {
      "cell_type": "code",
      "source": [
        "df[\"AveragePrice\"].head()"
      ],
      "metadata": {
        "id": "zrWBb-3bwr2J"
      },
      "execution_count": null,
      "outputs": []
    },
    {
      "cell_type": "code",
      "source": [
        "df.AveragePrice.head()"
      ],
      "metadata": {
        "id": "uL4cpO9sxKvP"
      },
      "execution_count": null,
      "outputs": []
    },
    {
      "cell_type": "code",
      "source": [
        "albany_df = df[ df['region'] == \"Albany\" ]\n",
        "albany_df.head()"
      ],
      "metadata": {
        "id": "AaWeN1RHxtq7"
      },
      "execution_count": null,
      "outputs": []
    },
    {
      "cell_type": "code",
      "source": [
        "albany_df.index"
      ],
      "metadata": {
        "id": "mmv_xJ4tybr6"
      },
      "execution_count": null,
      "outputs": []
    },
    {
      "cell_type": "markdown",
      "source": [
        "set_index() :\n",
        "\n",
        "DataFrame.set_index() is used to set a new index to the DataFrame. It is also used to extend the existing DataFrame, i.e., we can update the index by append to the existing index."
      ],
      "metadata": {
        "id": "dFip7cIw00Wp"
      }
    },
    {
      "cell_type": "code",
      "source": [
        "albany_df.set_index(\"Date\")"
      ],
      "metadata": {
        "id": "y4NXIFW3zJlm"
      },
      "execution_count": null,
      "outputs": []
    },
    {
      "cell_type": "code",
      "source": [
        "albany_df.head()"
      ],
      "metadata": {
        "id": "GZgP8QaczfKG"
      },
      "execution_count": null,
      "outputs": []
    },
    {
      "cell_type": "code",
      "source": [
        "albany_df = albany_df.set_index(\"Date\")"
      ],
      "metadata": {
        "id": "94s8NmRb1O2f"
      },
      "execution_count": null,
      "outputs": []
    },
    {
      "cell_type": "code",
      "source": [
        "albany_df.head()"
      ],
      "metadata": {
        "id": "cbYfV0tg1gKQ"
      },
      "execution_count": null,
      "outputs": []
    },
    {
      "cell_type": "code",
      "source": [
        "albany_df.plot()"
      ],
      "metadata": {
        "id": "uY0xFiBY1oI-"
      },
      "execution_count": null,
      "outputs": []
    },
    {
      "cell_type": "code",
      "source": [
        "albany_df['AveragePrice'].plot()"
      ],
      "metadata": {
        "id": "dZk3jcJT2OwM"
      },
      "execution_count": null,
      "outputs": []
    },
    {
      "cell_type": "code",
      "source": [
        "df['Date'] = pd.to_datetime(df[\"Date\"])"
      ],
      "metadata": {
        "id": "mwJzYzKc-SJH"
      },
      "execution_count": null,
      "outputs": []
    },
    {
      "cell_type": "code",
      "source": [
        "albany_df = df[df[\"region\"] == \"Albany\"]\n",
        "albany_df.set_index(\"Date\", inplace = True)\n",
        "albany_df[\"AveragePrice\"].plot()"
      ],
      "metadata": {
        "id": "K4yDvi0rk4wi"
      },
      "execution_count": null,
      "outputs": []
    },
    {
      "cell_type": "code",
      "source": [
        "albany_df.head(25)"
      ],
      "metadata": {
        "id": "ucOuQ5ZVm5Xr"
      },
      "execution_count": null,
      "outputs": []
    },
    {
      "cell_type": "code",
      "source": [
        "albany_df.sort_index(inplace=True)\n",
        "albany_df['AveragePrice'].rolling(25).mean().plot()\n"
      ],
      "metadata": {
        "id": "5kC72kjVm-XE"
      },
      "execution_count": null,
      "outputs": []
    },
    {
      "cell_type": "code",
      "source": [
        "albany_df['price25ma'] = albany_df['AveragePrice'].rolling(25).mean()"
      ],
      "metadata": {
        "id": "fCO9kvI5rjKU"
      },
      "execution_count": null,
      "outputs": []
    },
    {
      "cell_type": "code",
      "source": [
        "albany_df.head(3)"
      ],
      "metadata": {
        "id": "7b0u2HTVrkDk"
      },
      "execution_count": null,
      "outputs": []
    },
    {
      "cell_type": "code",
      "source": [
        "albany_df.tail(3)"
      ],
      "metadata": {
        "id": "rc2hjoOGsAOa"
      },
      "execution_count": null,
      "outputs": []
    },
    {
      "cell_type": "code",
      "source": [
        "albany_df.dropna().head(3)"
      ],
      "metadata": {
        "id": "CfIvbILEsNZ9"
      },
      "execution_count": null,
      "outputs": []
    },
    {
      "cell_type": "code",
      "source": [
        "albany_df = df.copy()[df[\"region\"] == \"Albany\" ]\n",
        "albany_df.set_index(\"Date\", inplace = True)\n",
        "albany_df.sort_index(inplace=True)\n",
        "albany_df['price25ma'] = albany_df['AveragePrice'].rolling(25).mean()"
      ],
      "metadata": {
        "id": "HacR7H7p3aaA"
      },
      "execution_count": null,
      "outputs": []
    },
    {
      "cell_type": "code",
      "source": [
        "df.values"
      ],
      "metadata": {
        "id": "heXp-5is4kLX"
      },
      "execution_count": null,
      "outputs": []
    },
    {
      "cell_type": "code",
      "source": [
        "list(set(df['region'].values.tolist()))"
      ],
      "metadata": {
        "id": "LU-fHbb64quC"
      },
      "execution_count": null,
      "outputs": []
    },
    {
      "cell_type": "code",
      "source": [
        "df['region'].unique()"
      ],
      "metadata": {
        "id": "iPH3c87P5ZtG"
      },
      "execution_count": null,
      "outputs": []
    },
    {
      "cell_type": "code",
      "source": [
        "graph_df = pd.DataFrame()\n",
        "for region in df['region'].unique()[:16]:\n",
        "  print(region)\n",
        "  region_df = df.copy()[df['region'] == region]\n",
        "  region_df.set_index(\"Date\", inplace = True)\n",
        "  region_df.sort_index(inplace=True)\n",
        "  region_df[f'{region}_price25ma'] = region_df['AveragePrice'].rolling(25).mean()\n",
        "\n",
        "if graph_df.empty:\n",
        "    graph_df = region_df[[f'{region}_price25ma']]\n",
        "\n",
        "else:\n",
        "    graph_df = graph_df.join(region_df[f'{region}_price25ma'])"
      ],
      "metadata": {
        "id": "BcCfNRV56T5v"
      },
      "execution_count": null,
      "outputs": []
    },
    {
      "cell_type": "code",
      "source": [
        "df.tail(3)"
      ],
      "metadata": {
        "id": "czG671H9-g7q"
      },
      "execution_count": null,
      "outputs": []
    },
    {
      "cell_type": "code",
      "source": [
        "df['type'].unique()"
      ],
      "metadata": {
        "id": "EuGkWfEE-vje"
      },
      "execution_count": null,
      "outputs": []
    },
    {
      "cell_type": "code",
      "source": [
        "import pandas as pd\n",
        "\n",
        "df = pd.read_csv(\"avocado.csv\")\n",
        "df = df.copy()[df['type']==\"organic\"]\n",
        "df['Date'] = pd.to_datetime(df[\"Date\"])\n",
        "\n",
        "df.sort_values(by=\"Date\", ascending = True, inplace=True)\n",
        "\n",
        "graph_df = pd.DataFrame()\n",
        "for region in df['region'].unique():\n",
        "  print(region)\n",
        "  region_df = df.copy()[df['region'] == region]\n",
        "  region_df.set_index(\"Date\", inplace = True)\n",
        "  region_df.sort_index(inplace=True)\n",
        "  region_df[f'{region}_price25ma'] = region_df['AveragePrice'].rolling(25).mean()\n",
        "\n",
        "if graph_df.empty:\n",
        "    graph_df = region_df[[f'{region}_price25ma']]\n",
        "\n",
        "else:\n",
        "    graph_df = graph_df.join(region_df[f'{region}_price25ma'])\n",
        "\n",
        "graph_df.tail()   \n",
        "\n"
      ],
      "metadata": {
        "id": "gdv9qVlw-7pe"
      },
      "execution_count": null,
      "outputs": []
    },
    {
      "cell_type": "code",
      "source": [
        "graph_df.dropna().plot(figsize=(8,5), legend=False)"
      ],
      "metadata": {
        "id": "DunSb_c0E7XC"
      },
      "execution_count": null,
      "outputs": []
    }
  ]
}